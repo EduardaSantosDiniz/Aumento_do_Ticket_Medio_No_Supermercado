{
  "nbformat": 4,
  "nbformat_minor": 0,
  "metadata": {
    "colab": {
      "provenance": [],
      "authorship_tag": "ABX9TyMEKFi90hTXblU+6u2CopMZ",
      "include_colab_link": true
    },
    "kernelspec": {
      "name": "python3",
      "display_name": "Python 3"
    },
    "language_info": {
      "name": "python"
    }
  },
  "cells": [
    {
      "cell_type": "markdown",
      "metadata": {
        "id": "view-in-github",
        "colab_type": "text"
      },
      "source": [
        "<a href=\"https://colab.research.google.com/github/EduardaSantosDiniz/vendas_supermecado/blob/main/vendas_supermecado.ipynb\" target=\"_parent\"><img src=\"https://colab.research.google.com/assets/colab-badge.svg\" alt=\"Open In Colab\"/></a>"
      ]
    },
    {
      "cell_type": "markdown",
      "source": [
        "1️⃣ Definição do Problema\n",
        "Compreender o objetivo do projeto e as perguntas que precisam ser respondidas.\n",
        "Identificar quais métricas indicarão o sucesso da análise.\n",
        "2️⃣ Coleta de Dados\n",
        "Buscar os dados necessários de fontes diversas (bancos de dados, APIs, arquivos CSV, web scraping, etc.).\n",
        "Garantir que os dados sejam relevantes para a análise.\n",
        "3️⃣ Limpeza e Preparação dos Dados\n",
        "Tratar valores ausentes, remover duplicatas e lidar com outliers.\n",
        "Converter dados para formatos adequados (exemplo: transformar datas, padronizar textos, etc.).\n",
        "Criar novas variáveis (feature engineering) se necessário.\n",
        "4️⃣ Análise Exploratória de Dados (EDA - Exploratory Data Analysis)\n",
        "Criar gráficos e estatísticas para entender padrões e tendências.\n",
        "Identificar correlações entre variáveis.\n",
        "Descobrir possíveis insights iniciais.\n",
        "5️⃣ Modelagem e Machine Learning (se aplicável)\n",
        "Escolher modelos adequados (regressão, classificação, clustering, etc.).\n",
        "Treinar e validar modelos com os dados disponíveis.\n",
        "Ajustar hiperparâmetros para melhorar o desempenho.\n",
        "6️⃣ Avaliação e Interpretação dos Resultados\n",
        "Avaliar a performance dos modelos usando métricas adequadas (exemplo: acurácia, erro médio, etc.).\n",
        "Comparar os resultados com a hipótese inicial.\n"
      ],
      "metadata": {
        "id": "FScL6is65Sbh"
      }
    },
    {
      "cell_type": "code",
      "source": [
        "import pandas as pd\n",
        "\n",
        "df = pd.read_csv('arquivo_mercado.csv')\n",
        "print(df.head())"
      ],
      "metadata": {
        "id": "xKqQCsAi4egZ",
        "outputId": "49004a6a-ca66-40e2-dd4b-8ad853cd2c59",
        "colab": {
          "base_uri": "https://localhost:8080/"
        }
      },
      "execution_count": 4,
      "outputs": [
        {
          "output_type": "stream",
          "name": "stdout",
          "text": [
            "    Invoice ID Branch       City Customer type  Gender  \\\n",
            "0  750-67-8428      A     Yangon        Member  Female   \n",
            "1  226-31-3081      C  Naypyitaw        Normal  Female   \n",
            "2  631-41-3108      A     Yangon        Normal    Male   \n",
            "3  123-19-1176      A     Yangon        Member    Male   \n",
            "4  373-73-7910      A     Yangon        Normal    Male   \n",
            "\n",
            "             Product line  Unit price  Quantity   Tax 5%     Total       Date  \\\n",
            "0       Health and beauty       74.69         7  26.1415  548.9715   1/5/2019   \n",
            "1  Electronic accessories       15.28         5   3.8200   80.2200   3/8/2019   \n",
            "2      Home and lifestyle       46.33         7  16.2155  340.5255   3/3/2019   \n",
            "3       Health and beauty       58.22         8  23.2880  489.0480  1/27/2019   \n",
            "4       Sports and travel       86.31         7  30.2085  634.3785   2/8/2019   \n",
            "\n",
            "    Time      Payment    cogs  gross margin percentage  gross income  Rating  \n",
            "0  13:08      Ewallet  522.83                 4.761905       26.1415     9.1  \n",
            "1  10:29         Cash   76.40                 4.761905        3.8200     9.6  \n",
            "2  13:23  Credit card  324.31                 4.761905       16.2155     7.4  \n",
            "3  20:33      Ewallet  465.76                 4.761905       23.2880     8.4  \n",
            "4  10:37      Ewallet  604.17                 4.761905       30.2085     5.3  \n"
          ]
        }
      ]
    },
    {
      "cell_type": "code",
      "source": [
        "df.columns = ['id', 'ramo1', 'cidade', 'tipo_cliente', 'genero', 'linha_produto', 'preco_unitario', 'quantidade',\n",
        "              'taxa_5%', 'total', 'data', 'tempo', 'pagamento', 'ramo2', 'ramo3', 'receita_bruta','ramo4']\n",
        "\n",
        "df = df.drop(columns = ['ramo1','ramo2','ramo3','ramo4'])\n",
        "print(df.head())"
      ],
      "metadata": {
        "id": "2xrh55p84gFd",
        "outputId": "0732db32-6541-406d-ac13-4dd2a127538b",
        "colab": {
          "base_uri": "https://localhost:8080/"
        }
      },
      "execution_count": 21,
      "outputs": [
        {
          "output_type": "stream",
          "name": "stdout",
          "text": [
            "            id     cidade tipo_cliente  genero           linha_produto  \\\n",
            "0  750-67-8428     Yangon       Member  Female       Health and beauty   \n",
            "1  226-31-3081  Naypyitaw       Normal  Female  Electronic accessories   \n",
            "2  631-41-3108     Yangon       Normal    Male      Home and lifestyle   \n",
            "3  123-19-1176     Yangon       Member    Male       Health and beauty   \n",
            "4  373-73-7910     Yangon       Normal    Male       Sports and travel   \n",
            "\n",
            "   preco_unitario  quantidade  taxa_5%     total       data  tempo  \\\n",
            "0           74.69           7  26.1415  548.9715   1/5/2019  13:08   \n",
            "1           15.28           5   3.8200   80.2200   3/8/2019  10:29   \n",
            "2           46.33           7  16.2155  340.5255   3/3/2019  13:23   \n",
            "3           58.22           8  23.2880  489.0480  1/27/2019  20:33   \n",
            "4           86.31           7  30.2085  634.3785   2/8/2019  10:37   \n",
            "\n",
            "     pagamento  receita_bruta  \n",
            "0      Ewallet        26.1415  \n",
            "1         Cash         3.8200  \n",
            "2  Credit card        16.2155  \n",
            "3      Ewallet        23.2880  \n",
            "4      Ewallet        30.2085  \n"
          ]
        }
      ]
    }
  ]
}