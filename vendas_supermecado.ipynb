{
  "nbformat": 4,
  "nbformat_minor": 0,
  "metadata": {
    "colab": {
      "provenance": [],
      "authorship_tag": "ABX9TyMwBCZ4S5HMixVyTWVsnsR6",
      "include_colab_link": true
    },
    "kernelspec": {
      "name": "python3",
      "display_name": "Python 3"
    },
    "language_info": {
      "name": "python"
    }
  },
  "cells": [
    {
      "cell_type": "markdown",
      "metadata": {
        "id": "view-in-github",
        "colab_type": "text"
      },
      "source": [
        "<a href=\"https://colab.research.google.com/github/EduardaSantosDiniz/vendas_supermecado/blob/main/vendas_supermecado.ipynb\" target=\"_parent\"><img src=\"https://colab.research.google.com/assets/colab-badge.svg\" alt=\"Open In Colab\"/></a>"
      ]
    },
    {
      "cell_type": "markdown",
      "source": [
        "# 1️⃣ Definição do Problema\n",
        "Estamos trabalhando com dados de um supermercado.\n",
        "\n",
        "**Perguntas a serem respondidas:**\n",
        "\n",
        "\n",
        "\n",
        "*   Quais produtos terão mais vendas em determinada época do ano?\n",
        "*   Qual o perfil de cliente que mais compra determinado produto?\n",
        "\n",
        "*   Quais produtos estão com alta demanda e precisam ser reabastecidos com urgência?\n",
        "*   Como as promoções impactam nas vendas de determinados produtos?\n",
        "\n",
        "*   Quais produtos estão vendendo abaixo do esperado e precisam ser avaliados ou descontinuados?\n",
        "\n",
        "*   Qual é a cada categoria que mais vende produtos?\n",
        "\n",
        "*   Qual é a sazonalidade das vendas? (Produtos que vendem mais em determinadas épocas do ano)\n",
        "Quais produtos têm maior margem de lucro?\n",
        "-Como as promoções afetam as vendas?\n",
        "-Qual o perfil dos clientes (por exemplo, idade, sexo, localização) que mais compram?\n",
        "-Quais clientes compram produtos de maior valor?\n",
        "-Qual é o comportamento de compra dos clientes (frequência de compras, tipo de produto)?\n",
        "-Quais produtos estão em falta com mais frequência?\n",
        "-Quais produtos têm maior tempo de permanência nas prateleiras sem venda?\n",
        "\n",
        "---\n",
        "\n",
        "\n",
        "**Temos 13 perguntas para serem respondidas, eu irei responder uma de cada vez e depois criarei uma apresentação usando o Power Bi**"
      ],
      "metadata": {
        "id": "FScL6is65Sbh"
      }
    },
    {
      "cell_type": "markdown",
      "source": [
        "# 2️⃣Coleta de Dados\n",
        "\n",
        "\n"
      ],
      "metadata": {
        "id": "hpIO1KIN8h6X"
      }
    },
    {
      "cell_type": "code",
      "source": [
        "import pandas as pd\n",
        "\n",
        "df = pd.read_csv('arquivo_mercado.csv')\n",
        "#print(df.head())\n",
        "#separador\n",
        "\n",
        "\n",
        "#traduzindo as colunas para o português\n",
        "df.columns = ['id', 'ramo1', 'cidade', 'tipo_cliente', 'genero', 'linha_produto', 'preco_unitario', 'quantidade',\n",
        "              'taxa_5%', 'total', 'data', 'tempo', 'pagamento', 'ramo2', 'ramo3', 'receita_bruta','ramo4']\n",
        "#retirando as colunas que não vou utilizar\n",
        "df = df.drop(columns = ['ramo1','ramo2','ramo3','ramo4'])\n",
        "#separador titulo: ('respondendo a pergunta ...( Qual é a cada categoria que mais vende produtos?) ')\n",
        "\n",
        "\n",
        "df['linha_produto'].value_counts()\n",
        "#fazer um gráfico com o value conts\n",
        "\n",
        "# insight(olhando o resultado aparentemente é o Acessórios de Beleza, porém para ter certeza temos q ver a quantidade\n",
        "# que eles aparecem vezes a quantidade de produtos, ai sim veremos qual categoria vende mais produtos)\n",
        "\n",
        "print(df.head(15))"
      ],
      "metadata": {
        "colab": {
          "base_uri": "https://localhost:8080/"
        },
        "id": "xKqQCsAi4egZ",
        "outputId": "b7b5f716-3727-4bd5-fb40-809b70958bff"
      },
      "execution_count": 36,
      "outputs": [
        {
          "output_type": "stream",
          "name": "stdout",
          "text": [
            "             id     cidade tipo_cliente  genero           linha_produto  \\\n",
            "0   750-67-8428     Yangon       Member  Female       Health and beauty   \n",
            "1   226-31-3081  Naypyitaw       Normal  Female  Electronic accessories   \n",
            "2   631-41-3108     Yangon       Normal    Male      Home and lifestyle   \n",
            "3   123-19-1176     Yangon       Member    Male       Health and beauty   \n",
            "4   373-73-7910     Yangon       Normal    Male       Sports and travel   \n",
            "5   699-14-3026  Naypyitaw       Normal    Male  Electronic accessories   \n",
            "6   355-53-5943     Yangon       Member  Female  Electronic accessories   \n",
            "7   315-22-5665  Naypyitaw       Normal  Female      Home and lifestyle   \n",
            "8   665-32-9167     Yangon       Member  Female       Health and beauty   \n",
            "9   692-92-5582   Mandalay       Member  Female      Food and beverages   \n",
            "10  351-62-0822   Mandalay       Member  Female     Fashion accessories   \n",
            "11  529-56-3974   Mandalay       Member    Male  Electronic accessories   \n",
            "12  365-64-0515     Yangon       Normal  Female  Electronic accessories   \n",
            "13  252-56-2699     Yangon       Normal    Male      Food and beverages   \n",
            "14  829-34-3910     Yangon       Normal  Female       Health and beauty   \n",
            "\n",
            "    preco_unitario  quantidade  taxa_5%     total       data  tempo  \\\n",
            "0            74.69           7  26.1415  548.9715   1/5/2019  13:08   \n",
            "1            15.28           5   3.8200   80.2200   3/8/2019  10:29   \n",
            "2            46.33           7  16.2155  340.5255   3/3/2019  13:23   \n",
            "3            58.22           8  23.2880  489.0480  1/27/2019  20:33   \n",
            "4            86.31           7  30.2085  634.3785   2/8/2019  10:37   \n",
            "5            85.39           7  29.8865  627.6165  3/25/2019  18:30   \n",
            "6            68.84           6  20.6520  433.6920  2/25/2019  14:36   \n",
            "7            73.56          10  36.7800  772.3800  2/24/2019  11:38   \n",
            "8            36.26           2   3.6260   76.1460  1/10/2019  17:15   \n",
            "9            54.84           3   8.2260  172.7460  2/20/2019  13:27   \n",
            "10           14.48           4   2.8960   60.8160   2/6/2019  18:07   \n",
            "11           25.51           4   5.1020  107.1420   3/9/2019  17:03   \n",
            "12           46.95           5  11.7375  246.4875  2/12/2019  10:25   \n",
            "13           43.19          10  21.5950  453.4950   2/7/2019  16:48   \n",
            "14           71.38          10  35.6900  749.4900  3/29/2019  19:21   \n",
            "\n",
            "      pagamento  receita_bruta  \n",
            "0       Ewallet        26.1415  \n",
            "1          Cash         3.8200  \n",
            "2   Credit card        16.2155  \n",
            "3       Ewallet        23.2880  \n",
            "4       Ewallet        30.2085  \n",
            "5       Ewallet        29.8865  \n",
            "6       Ewallet        20.6520  \n",
            "7       Ewallet        36.7800  \n",
            "8   Credit card         3.6260  \n",
            "9   Credit card         8.2260  \n",
            "10      Ewallet         2.8960  \n",
            "11         Cash         5.1020  \n",
            "12      Ewallet        11.7375  \n",
            "13      Ewallet        21.5950  \n",
            "14         Cash        35.6900  \n"
          ]
        }
      ]
    },
    {
      "cell_type": "code",
      "source": [
        "import pandas as pd\n",
        "\n",
        "df = pd.read_csv('arquivo_mercado.csv')\n"
      ],
      "metadata": {
        "id": "qy8h39md-t0z",
        "outputId": "327b6dab-2966-4807-f000-a8a0619f8ef9",
        "colab": {
          "base_uri": "https://localhost:8080/"
        }
      },
      "execution_count": 33,
      "outputs": [
        {
          "output_type": "stream",
          "name": "stdout",
          "text": [
            "    Invoice ID Branch       City Customer type  Gender  \\\n",
            "0  750-67-8428      A     Yangon        Member  Female   \n",
            "1  226-31-3081      C  Naypyitaw        Normal  Female   \n",
            "2  631-41-3108      A     Yangon        Normal    Male   \n",
            "3  123-19-1176      A     Yangon        Member    Male   \n",
            "4  373-73-7910      A     Yangon        Normal    Male   \n",
            "\n",
            "             Product line  Unit price  Quantity   Tax 5%     Total       Date  \\\n",
            "0       Health and beauty       74.69         7  26.1415  548.9715   1/5/2019   \n",
            "1  Electronic accessories       15.28         5   3.8200   80.2200   3/8/2019   \n",
            "2      Home and lifestyle       46.33         7  16.2155  340.5255   3/3/2019   \n",
            "3       Health and beauty       58.22         8  23.2880  489.0480  1/27/2019   \n",
            "4       Sports and travel       86.31         7  30.2085  634.3785   2/8/2019   \n",
            "\n",
            "    Time      Payment    cogs  gross margin percentage  gross income  Rating  \n",
            "0  13:08      Ewallet  522.83                 4.761905       26.1415     9.1  \n",
            "1  10:29         Cash   76.40                 4.761905        3.8200     9.6  \n",
            "2  13:23  Credit card  324.31                 4.761905       16.2155     7.4  \n",
            "3  20:33      Ewallet  465.76                 4.761905       23.2880     8.4  \n",
            "4  10:37      Ewallet  604.17                 4.761905       30.2085     5.3  \n"
          ]
        }
      ]
    },
    {
      "cell_type": "markdown",
      "source": [
        "# 3️⃣ Limpeza e Preparação dos Dados\n",
        "Tratar valores ausentes, remover duplicatas e lidar com outliers.\n",
        "Converter dados para formatos adequados (exemplo: transformar datas, padronizar textos, etc.).\n",
        "Criar novas variáveis (feature engineering) se necessário.\n"
      ],
      "metadata": {
        "id": "lvc743ZK89lj"
      }
    },
    {
      "cell_type": "markdown",
      "source": [
        "# 4️⃣ Análise Exploratória de Dados (EDA - Exploratory Data Analysis)\n",
        "Criar gráficos e estatísticas para entender padrões e tendências.\n",
        "Identificar correlações entre variáveis.\n",
        "Descobrir possíveis insights iniciais.\n",
        "\n"
      ],
      "metadata": {
        "id": "DrnHjdLe8_xI"
      }
    },
    {
      "cell_type": "markdown",
      "source": [
        "# 5️⃣ Modelagem e Machine Learning (se aplicável)\n",
        "Escolher modelos adequados (regressão, classificação, clustering, etc.).\n",
        "Treinar e validar modelos com os dados disponíveis.\n",
        "Ajustar hiperparâmetros para melhorar o desempenho.\n"
      ],
      "metadata": {
        "id": "JRF1P5Jq9E1F"
      }
    },
    {
      "cell_type": "markdown",
      "source": [
        "# 6️⃣ Avaliação e Interpretação dos Resultados\n",
        "Avaliar a performance dos modelos usando métricas adequadas (exemplo: acurácia, erro médio, etc.).\n",
        "Comparar os resultados com a hipótese inicial."
      ],
      "metadata": {
        "id": "ZLdP5uvF9H3Z"
      }
    }
  ]
}