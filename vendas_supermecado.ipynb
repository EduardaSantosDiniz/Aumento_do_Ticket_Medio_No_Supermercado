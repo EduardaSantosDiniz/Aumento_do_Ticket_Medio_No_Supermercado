{
  "nbformat": 4,
  "nbformat_minor": 0,
  "metadata": {
    "colab": {
      "provenance": [],
      "authorship_tag": "ABX9TyPrsfNGTnfkze7IiXKW/Iwp",
      "include_colab_link": true
    },
    "kernelspec": {
      "name": "python3",
      "display_name": "Python 3"
    },
    "language_info": {
      "name": "python"
    }
  },
  "cells": [
    {
      "cell_type": "markdown",
      "metadata": {
        "id": "view-in-github",
        "colab_type": "text"
      },
      "source": [
        "<a href=\"https://colab.research.google.com/github/EduardaSantosDiniz/vendas_supermecado/blob/main/vendas_supermecado.ipynb\" target=\"_parent\"><img src=\"https://colab.research.google.com/assets/colab-badge.svg\" alt=\"Open In Colab\"/></a>"
      ]
    },
    {
      "cell_type": "markdown",
      "source": [
        "# 1️⃣ Definição do Problema\n",
        "Estamos trabalhando com dados de um supermercado.\n",
        "\n",
        "**Perguntas a serem respondidas:**\n",
        "\n",
        "\n",
        "\n",
        "*   Quais produtos terão mais vendas em determinada época do ano?\n",
        "*   Qual o perfil de cliente que mais compra determinado produto?\n",
        "\n",
        "*   Quais produtos estão com alta demanda e precisam ser reabastecidos com urgência?\n",
        "*   Como as promoções impactam nas vendas de determinados produtos?\n",
        "\n",
        "*   Quais produtos estão vendendo abaixo do esperado e precisam ser avaliados ou descontinuados?\n",
        "\n",
        "*   Quais são os produtos mais vendidos em cada categoria?\n",
        "\n",
        "*   Qual é a sazonalidade das vendas? (Produtos que vendem mais em determinadas épocas do ano)\n",
        "Quais produtos têm maior margem de lucro?\n",
        "-Como as promoções afetam as vendas?\n",
        "-Qual o perfil dos clientes (por exemplo, idade, sexo, localização) que mais compram?\n",
        "-Quais clientes compram produtos de maior valor?\n",
        "-Qual é o comportamento de compra dos clientes (frequência de compras, tipo de produto)?\n",
        "-Quais produtos estão em falta com mais frequência?\n",
        "-Quais produtos têm maior tempo de permanência nas prateleiras sem venda?\n",
        "\n",
        "---\n",
        "\n",
        "\n",
        "**Temos 13 perguntas para serem respondidas, eu irei responder uma de cada vez e depois criarei uma apresentação usando o Power Bi**"
      ],
      "metadata": {
        "id": "FScL6is65Sbh"
      }
    },
    {
      "cell_type": "markdown",
      "source": [
        "# 2️⃣Coleta de Dados\n",
        "\n",
        "\n"
      ],
      "metadata": {
        "id": "hpIO1KIN8h6X"
      }
    },
    {
      "cell_type": "code",
      "source": [
        "import pandas as pd\n",
        "\n",
        "df = pd.read_csv('arquivo_mercado.csv')\n",
        "#print(df.head())\n",
        "#separador\n",
        "\n",
        "\n",
        "#traduzindo as colunas para o português\n",
        "df.columns = ['id', 'ramo1', 'cidade', 'tipo_cliente', 'genero', 'linha_produto', 'preco_unitario', 'quantidade',\n",
        "              'taxa_5%', 'total', 'data', 'tempo', 'pagamento', 'ramo2', 'ramo3', 'receita_bruta','ramo4']\n",
        "#retirando as colunas que não vou utilizar\n",
        "df = df.drop(columns = ['ramo1','ramo2','ramo3','ramo4'])\n",
        "#separador titulo: ('respondendo a pergunta ...(pergunta) ')\n",
        "df['linha_produto'] = df['linha_produto'].replace({\n",
        "    'Fashion accessories' : 'Acessorios de Beleza',\n",
        "    'Food and beverages' : 'Comidas e Bebidas',\n",
        "    'Eletronic accessories' : 'Eletronicos',\n",
        "    'Sports and travel' : 'Viagem e Esportes',\n",
        "    'Home and lifestyle' : 'Casa e Estilo de vida',\n",
        "    'Health and beauty': 'Saude e Beleza'\n",
        "})\n",
        "\n",
        "df['linha_produto'].value_counts()\n",
        "\n"
      ],
      "metadata": {
        "colab": {
          "base_uri": "https://localhost:8080/",
          "height": 303
        },
        "id": "xKqQCsAi4egZ",
        "outputId": "e01553a5-48b4-4285-bbd2-acd5128ac0a7"
      },
      "execution_count": 31,
      "outputs": [
        {
          "output_type": "execute_result",
          "data": {
            "text/plain": [
              "linha_produto\n",
              "Acessorios de Beleza      178\n",
              "Comidas e Bebidas         174\n",
              "Electronic accessories    170\n",
              "Viagem e Esportes         166\n",
              "Casa e Estilo de vida     160\n",
              "Saude e Beleza            152\n",
              "Name: count, dtype: int64"
            ],
            "text/html": [
              "<div>\n",
              "<style scoped>\n",
              "    .dataframe tbody tr th:only-of-type {\n",
              "        vertical-align: middle;\n",
              "    }\n",
              "\n",
              "    .dataframe tbody tr th {\n",
              "        vertical-align: top;\n",
              "    }\n",
              "\n",
              "    .dataframe thead th {\n",
              "        text-align: right;\n",
              "    }\n",
              "</style>\n",
              "<table border=\"1\" class=\"dataframe\">\n",
              "  <thead>\n",
              "    <tr style=\"text-align: right;\">\n",
              "      <th></th>\n",
              "      <th>count</th>\n",
              "    </tr>\n",
              "    <tr>\n",
              "      <th>linha_produto</th>\n",
              "      <th></th>\n",
              "    </tr>\n",
              "  </thead>\n",
              "  <tbody>\n",
              "    <tr>\n",
              "      <th>Acessorios de Beleza</th>\n",
              "      <td>178</td>\n",
              "    </tr>\n",
              "    <tr>\n",
              "      <th>Comidas e Bebidas</th>\n",
              "      <td>174</td>\n",
              "    </tr>\n",
              "    <tr>\n",
              "      <th>Electronic accessories</th>\n",
              "      <td>170</td>\n",
              "    </tr>\n",
              "    <tr>\n",
              "      <th>Viagem e Esportes</th>\n",
              "      <td>166</td>\n",
              "    </tr>\n",
              "    <tr>\n",
              "      <th>Casa e Estilo de vida</th>\n",
              "      <td>160</td>\n",
              "    </tr>\n",
              "    <tr>\n",
              "      <th>Saude e Beleza</th>\n",
              "      <td>152</td>\n",
              "    </tr>\n",
              "  </tbody>\n",
              "</table>\n",
              "</div><br><label><b>dtype:</b> int64</label>"
            ]
          },
          "metadata": {},
          "execution_count": 31
        }
      ]
    },
    {
      "cell_type": "markdown",
      "source": [
        "# 3️⃣ Limpeza e Preparação dos Dados\n",
        "Tratar valores ausentes, remover duplicatas e lidar com outliers.\n",
        "Converter dados para formatos adequados (exemplo: transformar datas, padronizar textos, etc.).\n",
        "Criar novas variáveis (feature engineering) se necessário.\n"
      ],
      "metadata": {
        "id": "lvc743ZK89lj"
      }
    },
    {
      "cell_type": "markdown",
      "source": [
        "# 4️⃣ Análise Exploratória de Dados (EDA - Exploratory Data Analysis)\n",
        "Criar gráficos e estatísticas para entender padrões e tendências.\n",
        "Identificar correlações entre variáveis.\n",
        "Descobrir possíveis insights iniciais.\n",
        "\n"
      ],
      "metadata": {
        "id": "DrnHjdLe8_xI"
      }
    },
    {
      "cell_type": "markdown",
      "source": [
        "# 5️⃣ Modelagem e Machine Learning (se aplicável)\n",
        "Escolher modelos adequados (regressão, classificação, clustering, etc.).\n",
        "Treinar e validar modelos com os dados disponíveis.\n",
        "Ajustar hiperparâmetros para melhorar o desempenho.\n"
      ],
      "metadata": {
        "id": "JRF1P5Jq9E1F"
      }
    },
    {
      "cell_type": "markdown",
      "source": [
        "# 6️⃣ Avaliação e Interpretação dos Resultados\n",
        "Avaliar a performance dos modelos usando métricas adequadas (exemplo: acurácia, erro médio, etc.).\n",
        "Comparar os resultados com a hipótese inicial."
      ],
      "metadata": {
        "id": "ZLdP5uvF9H3Z"
      }
    }
  ]
}